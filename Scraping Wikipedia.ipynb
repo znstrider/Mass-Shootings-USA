{
 "cells": [
  {
   "cell_type": "markdown",
   "metadata": {},
   "source": [
    "### Introduction\n",
    "\n",
    "##### Purpose of the Notebook:\n",
    "\n",
    "Scrape Wikipedia for the data of (mass) shootings in the USA."
   ]
  },
  {
   "cell_type": "markdown",
   "metadata": {},
   "source": [
    "### 1. Imports\n",
    "##### 1.1 Import libraries and write settings."
   ]
  },
  {
   "cell_type": "code",
   "execution_count": 1,
   "metadata": {},
   "outputs": [],
   "source": [
    "import pandas as pd\n",
    "import numpy as np\n",
    "\n",
    "# Options for pandas\n",
    "pd.options.display.max_columns = None\n",
    "pd.options.display.max_rows = 30\n",
    "\n",
    "import warnings\n",
    "warnings.filterwarnings(\"ignore\")\n",
    "\n",
    "import requests\n",
    "from bs4 import BeautifulSoup\n",
    "\n",
    "import os\n",
    "import time\n",
    "import datetime"
   ]
  },
  {
   "cell_type": "code",
   "execution_count": 2,
   "metadata": {},
   "outputs": [],
   "source": [
    "url = 'https://en.wikipedia.org/wiki/List_of_mass_shootings_in_the_United_States_in_2019'"
   ]
  },
  {
   "cell_type": "code",
   "execution_count": 3,
   "metadata": {},
   "outputs": [],
   "source": [
    "headers = {'User-Agent': \n",
    "           'Mozilla/5.0 (X11; Linux x86_64) AppleWebKit/537.36 (KHTML, like Gecko) Chrome/47.0.2526.106 Safari/537.36'}\n",
    "pageTree = requests.get(url, headers=headers)\n",
    "soup = BeautifulSoup(pageTree.content, 'html.parser')"
   ]
  },
  {
   "cell_type": "markdown",
   "metadata": {},
   "source": [
    "Find the table that stores the data"
   ]
  },
  {
   "cell_type": "code",
   "execution_count": 4,
   "metadata": {},
   "outputs": [],
   "source": [
    "tables = soup.find_all(\"tbody\")\n",
    "table = tables[0]"
   ]
  },
  {
   "cell_type": "markdown",
   "metadata": {},
   "source": [
    "loop through the rows and write the column contents into our data list"
   ]
  },
  {
   "cell_type": "code",
   "execution_count": 5,
   "metadata": {},
   "outputs": [],
   "source": [
    "data = []\n",
    "rows = table.find_all('tr')\n",
    "\n",
    "column_headers = rows[0].find_all('th')\n",
    "col_names = [element.text.strip('\\n') for element in column_headers]\n",
    "\n",
    "for row in rows[1:]:\n",
    "    cols = row.find_all('td')\n",
    "    cols = [element.text for element in cols]\n",
    "    data.append([element.strip('\\n') for element in cols if element]) # Get rid of empty values"
   ]
  },
  {
   "cell_type": "code",
   "execution_count": 6,
   "metadata": {},
   "outputs": [],
   "source": [
    "df = pd.DataFrame(data, columns = col_names)"
   ]
  },
  {
   "cell_type": "markdown",
   "metadata": {},
   "source": [
    "##### Clean the DataFrame"
   ]
  },
  {
   "cell_type": "code",
   "execution_count": 7,
   "metadata": {},
   "outputs": [],
   "source": [
    "df['dt'] = pd.to_datetime(df.Date, format = '%B %d, %Y')\n",
    "\n",
    "df['Suspects Dead'] = 0\n",
    "df['Suspects Dead'] = (df.loc[df['Dead']\n",
    "                            .str.contains('n \\d'), 'Dead']\n",
    "                            .str.split('n', expand = True)\n",
    "                            .iloc[:, 1]\n",
    "                            .str.replace(']', '')\n",
    "                            .str.strip())\n",
    "df['Suspects Injured'] = 0\n",
    "df['Suspects Injured'] = (df.loc[df['Injured']\n",
    "                            .str.contains('n \\d'), 'Injured']\n",
    "                            .str.split('n', expand = True)\n",
    "                            .iloc[:, 1]\n",
    "                            .str.replace(']', '')\n",
    "                            .str.strip())\n",
    "                \n",
    "df['Suspects Dead'] = df['Suspects Dead'].fillna(0)\n",
    "df['Suspects Injured'] = df['Suspects Injured'].fillna(0)\n",
    "\n",
    "df['Dead'] = df.Dead.str.replace('n \\d', '', regex = True).str.replace('[]', '', regex = False)\n",
    "df['Injured'] = df.Injured.str.replace('n \\d', '', regex = True).str.replace('[]', '', regex = False)\n",
    "\n",
    "df[['Dead', 'Injured', 'Total']] = df[['Dead', 'Injured', 'Total']].astype('int')\n",
    "df['Year'] = df['dt'].apply(lambda x: x.year)\n",
    "df['Month'] = df['dt'].apply(lambda x: x.month)\n",
    "df['Day'] = df['dt'].apply(lambda x: x.day)"
   ]
  },
  {
   "cell_type": "code",
   "execution_count": 8,
   "metadata": {},
   "outputs": [],
   "source": [
    "df['City'] = df.Location.apply(lambda x: x.split(',')[0])\n",
    "df['State'] = df.Location.apply(lambda x: x.split(',')[-1])"
   ]
  },
  {
   "cell_type": "code",
   "execution_count": 9,
   "metadata": {},
   "outputs": [
    {
     "data": {
      "text/html": [
       "<div>\n",
       "<style scoped>\n",
       "    .dataframe tbody tr th:only-of-type {\n",
       "        vertical-align: middle;\n",
       "    }\n",
       "\n",
       "    .dataframe tbody tr th {\n",
       "        vertical-align: top;\n",
       "    }\n",
       "\n",
       "    .dataframe thead th {\n",
       "        text-align: right;\n",
       "    }\n",
       "</style>\n",
       "<table border=\"1\" class=\"dataframe\">\n",
       "  <thead>\n",
       "    <tr style=\"text-align: right;\">\n",
       "      <th></th>\n",
       "      <th>Date</th>\n",
       "      <th>Location</th>\n",
       "      <th>Dead</th>\n",
       "      <th>Injured</th>\n",
       "      <th>Total</th>\n",
       "      <th>Description</th>\n",
       "      <th>dt</th>\n",
       "      <th>Suspects Dead</th>\n",
       "      <th>Suspects Injured</th>\n",
       "      <th>Year</th>\n",
       "      <th>Month</th>\n",
       "      <th>Day</th>\n",
       "      <th>City</th>\n",
       "      <th>State</th>\n",
       "    </tr>\n",
       "  </thead>\n",
       "  <tbody>\n",
       "    <tr>\n",
       "      <th>0</th>\n",
       "      <td>September 8, 2019</td>\n",
       "      <td>Sumter, South Carolina</td>\n",
       "      <td>2</td>\n",
       "      <td>3</td>\n",
       "      <td>5</td>\n",
       "      <td>Two men were killed and three other individual...</td>\n",
       "      <td>2019-09-08</td>\n",
       "      <td>0</td>\n",
       "      <td>0</td>\n",
       "      <td>2019</td>\n",
       "      <td>9</td>\n",
       "      <td>8</td>\n",
       "      <td>Sumter</td>\n",
       "      <td>South Carolina</td>\n",
       "    </tr>\n",
       "    <tr>\n",
       "      <th>1</th>\n",
       "      <td>September 7, 2019</td>\n",
       "      <td>Whiteville, North Carolina</td>\n",
       "      <td>3</td>\n",
       "      <td>1</td>\n",
       "      <td>4</td>\n",
       "      <td>A husband, wife and their five-year-old son we...</td>\n",
       "      <td>2019-09-07</td>\n",
       "      <td>0</td>\n",
       "      <td>0</td>\n",
       "      <td>2019</td>\n",
       "      <td>9</td>\n",
       "      <td>7</td>\n",
       "      <td>Whiteville</td>\n",
       "      <td>North Carolina</td>\n",
       "    </tr>\n",
       "    <tr>\n",
       "      <th>2</th>\n",
       "      <td>September 4, 2019</td>\n",
       "      <td>Marrero, Louisiana</td>\n",
       "      <td>2</td>\n",
       "      <td>2</td>\n",
       "      <td>4</td>\n",
       "      <td>A man and a seven-year-old girl were killed, a...</td>\n",
       "      <td>2019-09-04</td>\n",
       "      <td>0</td>\n",
       "      <td>0</td>\n",
       "      <td>2019</td>\n",
       "      <td>9</td>\n",
       "      <td>4</td>\n",
       "      <td>Marrero</td>\n",
       "      <td>Louisiana</td>\n",
       "    </tr>\n",
       "    <tr>\n",
       "      <th>3</th>\n",
       "      <td>September 4, 2019</td>\n",
       "      <td>Jacksonville, Florida</td>\n",
       "      <td>0</td>\n",
       "      <td>4</td>\n",
       "      <td>4</td>\n",
       "      <td>Three adults and a child were wounded in a sho...</td>\n",
       "      <td>2019-09-04</td>\n",
       "      <td>0</td>\n",
       "      <td>0</td>\n",
       "      <td>2019</td>\n",
       "      <td>9</td>\n",
       "      <td>4</td>\n",
       "      <td>Jacksonville</td>\n",
       "      <td>Florida</td>\n",
       "    </tr>\n",
       "    <tr>\n",
       "      <th>4</th>\n",
       "      <td>September 2, 2019</td>\n",
       "      <td>Elkmont,  Alabama</td>\n",
       "      <td>5</td>\n",
       "      <td>0</td>\n",
       "      <td>5</td>\n",
       "      <td>A 14-year-old boy shot dead five family member...</td>\n",
       "      <td>2019-09-02</td>\n",
       "      <td>0</td>\n",
       "      <td>0</td>\n",
       "      <td>2019</td>\n",
       "      <td>9</td>\n",
       "      <td>2</td>\n",
       "      <td>Elkmont</td>\n",
       "      <td>Alabama</td>\n",
       "    </tr>\n",
       "  </tbody>\n",
       "</table>\n",
       "</div>"
      ],
      "text/plain": [
       "                Date                    Location  Dead  Injured  Total  \\\n",
       "0  September 8, 2019      Sumter, South Carolina     2        3      5   \n",
       "1  September 7, 2019  Whiteville, North Carolina     3        1      4   \n",
       "2  September 4, 2019          Marrero, Louisiana     2        2      4   \n",
       "3  September 4, 2019       Jacksonville, Florida     0        4      4   \n",
       "4  September 2, 2019           Elkmont,  Alabama     5        0      5   \n",
       "\n",
       "                                         Description         dt Suspects Dead  \\\n",
       "0  Two men were killed and three other individual... 2019-09-08             0   \n",
       "1  A husband, wife and their five-year-old son we... 2019-09-07             0   \n",
       "2  A man and a seven-year-old girl were killed, a... 2019-09-04             0   \n",
       "3  Three adults and a child were wounded in a sho... 2019-09-04             0   \n",
       "4  A 14-year-old boy shot dead five family member... 2019-09-02             0   \n",
       "\n",
       "  Suspects Injured  Year  Month  Day          City            State  \n",
       "0                0  2019      9    8        Sumter   South Carolina  \n",
       "1                0  2019      9    7    Whiteville   North Carolina  \n",
       "2                0  2019      9    4       Marrero        Louisiana  \n",
       "3                0  2019      9    4  Jacksonville          Florida  \n",
       "4                0  2019      9    2       Elkmont          Alabama  "
      ]
     },
     "execution_count": 9,
     "metadata": {},
     "output_type": "execute_result"
    }
   ],
   "source": [
    "df.head()"
   ]
  },
  {
   "cell_type": "markdown",
   "metadata": {},
   "source": [
    "Finally save the DataFrame"
   ]
  },
  {
   "cell_type": "code",
   "execution_count": 10,
   "metadata": {},
   "outputs": [],
   "source": [
    "df.to_csv('Shootings in the USA in 2019.csv')"
   ]
  },
  {
   "cell_type": "markdown",
   "metadata": {},
   "source": [
    "### Mass Shootings in the USA"
   ]
  },
  {
   "cell_type": "code",
   "execution_count": 11,
   "metadata": {},
   "outputs": [],
   "source": [
    "url = 'https://en.wikipedia.org/wiki/List_of_mass_shootings_in_the_United_States#Early_2010s'"
   ]
  },
  {
   "cell_type": "code",
   "execution_count": 12,
   "metadata": {},
   "outputs": [
    {
     "data": {
      "text/plain": [
       "17"
      ]
     },
     "execution_count": 12,
     "metadata": {},
     "output_type": "execute_result"
    }
   ],
   "source": [
    "pageTree = requests.get(url, headers=headers)\n",
    "soup = BeautifulSoup(pageTree.content, 'html.parser')\n",
    "tables = soup.find_all(\"tbody\")\n",
    "\n",
    "# 1 table for each (group of) year(s)\n",
    "len(tables)"
   ]
  },
  {
   "cell_type": "code",
   "execution_count": 13,
   "metadata": {},
   "outputs": [],
   "source": [
    "menu = soup.find_all('div', {'class': 'toc'})\n",
    "entries = menu[0].find_all('li', {'class': \"toclevel-2\"})\n",
    "years = [entry.find_next('span', {'class': 'toctext'}).text for entry in entries]\n",
    "\n",
    "column_headers = tables[0].find_all('tr')[0].find_all('th')\n",
    "col_names = [element.text.strip('\\n') for element in column_headers]"
   ]
  },
  {
   "cell_type": "code",
   "execution_count": 14,
   "metadata": {},
   "outputs": [],
   "source": [
    "dfs = []\n",
    "for table, year in zip(tables, years):\n",
    "\n",
    "    data = []\n",
    "    rows = table.find_all('tr')\n",
    "\n",
    "    for row in rows[1:]:\n",
    "        cols = row.find_all('td')\n",
    "        cols = [element.text for element in cols]\n",
    "        data.append([element.strip('\\n') for element in cols if element]) # Get rid of empty values\n",
    "        \n",
    "    df = pd.DataFrame(data, columns = col_names)\n",
    "    dfs.append(df)\n",
    "    \n",
    "df = pd.concat(dfs, axis = 0).reset_index(drop = True)"
   ]
  },
  {
   "cell_type": "code",
   "execution_count": 15,
   "metadata": {},
   "outputs": [],
   "source": [
    "df['Suspects Dead'] = 0\n",
    "df['Suspects Dead'] = (df.loc[df['Dead']\n",
    "                            .str.contains('n \\d+'), 'Dead']\n",
    "                            .str.split('n', expand = True)\n",
    "                            .iloc[:, 1]\n",
    "                            .str.replace(']', '')\n",
    "                            .str.replace('[', '')\n",
    "                            .str.replace('+', '')\n",
    "                            .str.strip())\n",
    "df['Suspects Injured'] = 0\n",
    "df['Suspects Injured'] = (df.loc[df['Injured']\n",
    "                            .str.contains('n \\d+'), 'Injured']\n",
    "                            .str.split('n', expand = True)\n",
    "                            .iloc[:, 1]\n",
    "                            .str.replace(']', '')\n",
    "                            .str.replace('[', '')\n",
    "                            .str.replace('+', '')\n",
    "                            .str.strip())\n",
    "                \n",
    "df['Suspects Dead'] = df['Suspects Dead'].fillna(0)\n",
    "df['Suspects Injured'] = df['Suspects Injured'].fillna(0)\n",
    "\n",
    "df['Dead'] = df.Dead.str.replace('+', '')\n",
    "df['Injured'] = df.Injured.str.replace('+', '')\n",
    "\n",
    "df['Dead'] = df.Dead.str.replace('n \\d+', '', regex = True).str.replace('[]', '', regex = False)\n",
    "df['Injured'] = df.Injured.str.replace('n \\d+', '', regex = True).str.replace('[]', '', regex = False)\n",
    "df['Injured'] = df.Injured.str.split(' - ', expand = True).fillna(float(np.nan)).astype('float').mean(axis = 1).astype('int')\n",
    "df['Total'] = df.Total.str.replace('+', '').str.split(' - ', expand = True).fillna(float(np.nan)).astype('float').mean(axis = 1).astype('int')\n",
    "\n",
    "df[['Dead', 'Injured', 'Total', 'Suspects Dead', 'Suspects Injured']] =\\\n",
    "        df[['Dead', 'Injured', 'Total', 'Suspects Dead', 'Suspects Injured']].astype('int')"
   ]
  },
  {
   "cell_type": "code",
   "execution_count": 16,
   "metadata": {},
   "outputs": [],
   "source": [
    "##### Examples of problematic datetimes we need to convert (to first day of the range)\n",
    "# July 23-24, 1968  \n",
    "# December 31, 1972 - January 7, 1973 \n",
    "\n",
    "split = df.loc[df.Date.str.contains('[-–]'), 'Date'].str.replace('\\n', '').str.split('[-–,]', expand = True)\n",
    "\n",
    "split_dates = split.iloc[:, :2]\n",
    "\n",
    "split_dates.loc[split.iloc[:, 1].str.strip().str.len() == 4, 1] =\\\n",
    "                split_dates.loc[split.iloc[:, 1].str.strip().str.len() == 4, 1].values\n",
    "\n",
    "split_dates.loc[split.iloc[:, 1].str.strip().str.len() != 4, 1] =\\\n",
    "                split.loc[split.iloc[:, 1].str.strip().str.len() != 4, 2].values\n",
    "\n",
    "df.dt = df.Date\n",
    "df.loc[df.Date.str.contains('[-–]'), 'dt'] = split_dates[0].str.strip() + ',' + split_dates[1]\n",
    "df['dt'] = pd.to_datetime(df['dt'].str.strip(), format = '%B %d, %Y')\n",
    "\n",
    "df['Year'] = df['dt'].apply(lambda x: x.year)\n",
    "df['Month'] = df['dt'].apply(lambda x: x.month)\n",
    "df['Day'] = df['dt'].apply(lambda x: x.day)\n",
    "\n",
    "df['City'] = df.Location.apply(lambda x: x.split(',')[0])\n",
    "df['State'] = df.Location.apply(lambda x: x.split(',')[-1])"
   ]
  },
  {
   "cell_type": "code",
   "execution_count": 17,
   "metadata": {},
   "outputs": [
    {
     "data": {
      "text/html": [
       "<div>\n",
       "<style scoped>\n",
       "    .dataframe tbody tr th:only-of-type {\n",
       "        vertical-align: middle;\n",
       "    }\n",
       "\n",
       "    .dataframe tbody tr th {\n",
       "        vertical-align: top;\n",
       "    }\n",
       "\n",
       "    .dataframe thead th {\n",
       "        text-align: right;\n",
       "    }\n",
       "</style>\n",
       "<table border=\"1\" class=\"dataframe\">\n",
       "  <thead>\n",
       "    <tr style=\"text-align: right;\">\n",
       "      <th></th>\n",
       "      <th>Date</th>\n",
       "      <th>Location</th>\n",
       "      <th>Dead</th>\n",
       "      <th>Injured</th>\n",
       "      <th>Total</th>\n",
       "      <th>Description</th>\n",
       "      <th>Suspects Dead</th>\n",
       "      <th>Suspects Injured</th>\n",
       "      <th>dt</th>\n",
       "      <th>Year</th>\n",
       "      <th>Month</th>\n",
       "      <th>Day</th>\n",
       "      <th>City</th>\n",
       "      <th>State</th>\n",
       "    </tr>\n",
       "  </thead>\n",
       "  <tbody>\n",
       "    <tr>\n",
       "      <th>0</th>\n",
       "      <td>August 31, 2019</td>\n",
       "      <td>Midland–Odessa, Texas</td>\n",
       "      <td>8</td>\n",
       "      <td>25</td>\n",
       "      <td>33</td>\n",
       "      <td>2019 West Texas shooting: Seven people were ki...</td>\n",
       "      <td>1</td>\n",
       "      <td>0</td>\n",
       "      <td>NaT</td>\n",
       "      <td>NaN</td>\n",
       "      <td>NaN</td>\n",
       "      <td>NaN</td>\n",
       "      <td>Midland–Odessa</td>\n",
       "      <td>Texas</td>\n",
       "    </tr>\n",
       "    <tr>\n",
       "      <th>1</th>\n",
       "      <td>August 4, 2019</td>\n",
       "      <td>Dayton, Ohio</td>\n",
       "      <td>10</td>\n",
       "      <td>27</td>\n",
       "      <td>37</td>\n",
       "      <td>2019 Dayton shooting: Nine people were killed ...</td>\n",
       "      <td>1</td>\n",
       "      <td>0</td>\n",
       "      <td>NaT</td>\n",
       "      <td>NaN</td>\n",
       "      <td>NaN</td>\n",
       "      <td>NaN</td>\n",
       "      <td>Dayton</td>\n",
       "      <td>Ohio</td>\n",
       "    </tr>\n",
       "    <tr>\n",
       "      <th>2</th>\n",
       "      <td>August 3, 2019</td>\n",
       "      <td>El Paso, Texas</td>\n",
       "      <td>22</td>\n",
       "      <td>24</td>\n",
       "      <td>46</td>\n",
       "      <td>2019 El Paso shooting: A gunman killed twenty-...</td>\n",
       "      <td>0</td>\n",
       "      <td>0</td>\n",
       "      <td>NaT</td>\n",
       "      <td>NaN</td>\n",
       "      <td>NaN</td>\n",
       "      <td>NaN</td>\n",
       "      <td>El Paso</td>\n",
       "      <td>Texas</td>\n",
       "    </tr>\n",
       "    <tr>\n",
       "      <th>3</th>\n",
       "      <td>July 28, 2019</td>\n",
       "      <td>Gilroy, California</td>\n",
       "      <td>4</td>\n",
       "      <td>15</td>\n",
       "      <td>19</td>\n",
       "      <td>Gilroy Garlic Festival shooting: A gunman kill...</td>\n",
       "      <td>1</td>\n",
       "      <td>0</td>\n",
       "      <td>NaT</td>\n",
       "      <td>NaN</td>\n",
       "      <td>NaN</td>\n",
       "      <td>NaN</td>\n",
       "      <td>Gilroy</td>\n",
       "      <td>California</td>\n",
       "    </tr>\n",
       "    <tr>\n",
       "      <th>4</th>\n",
       "      <td>May 31, 2019</td>\n",
       "      <td>Virginia Beach, Virginia</td>\n",
       "      <td>13</td>\n",
       "      <td>5</td>\n",
       "      <td>18</td>\n",
       "      <td>Virginia Beach shooting: A gunman killed 12 pe...</td>\n",
       "      <td>1</td>\n",
       "      <td>0</td>\n",
       "      <td>NaT</td>\n",
       "      <td>NaN</td>\n",
       "      <td>NaN</td>\n",
       "      <td>NaN</td>\n",
       "      <td>Virginia Beach</td>\n",
       "      <td>Virginia</td>\n",
       "    </tr>\n",
       "  </tbody>\n",
       "</table>\n",
       "</div>"
      ],
      "text/plain": [
       "              Date                  Location  Dead  Injured  Total  \\\n",
       "0  August 31, 2019     Midland–Odessa, Texas     8       25     33   \n",
       "1   August 4, 2019              Dayton, Ohio    10       27     37   \n",
       "2   August 3, 2019            El Paso, Texas    22       24     46   \n",
       "3    July 28, 2019        Gilroy, California     4       15     19   \n",
       "4     May 31, 2019  Virginia Beach, Virginia    13        5     18   \n",
       "\n",
       "                                         Description  Suspects Dead  \\\n",
       "0  2019 West Texas shooting: Seven people were ki...              1   \n",
       "1  2019 Dayton shooting: Nine people were killed ...              1   \n",
       "2  2019 El Paso shooting: A gunman killed twenty-...              0   \n",
       "3  Gilroy Garlic Festival shooting: A gunman kill...              1   \n",
       "4  Virginia Beach shooting: A gunman killed 12 pe...              1   \n",
       "\n",
       "   Suspects Injured  dt  Year  Month  Day            City        State  \n",
       "0                 0 NaT   NaN    NaN  NaN  Midland–Odessa        Texas  \n",
       "1                 0 NaT   NaN    NaN  NaN          Dayton         Ohio  \n",
       "2                 0 NaT   NaN    NaN  NaN         El Paso        Texas  \n",
       "3                 0 NaT   NaN    NaN  NaN          Gilroy   California  \n",
       "4                 0 NaT   NaN    NaN  NaN  Virginia Beach     Virginia  "
      ]
     },
     "execution_count": 17,
     "metadata": {},
     "output_type": "execute_result"
    }
   ],
   "source": [
    "df.head()"
   ]
  },
  {
   "cell_type": "code",
   "execution_count": 18,
   "metadata": {},
   "outputs": [],
   "source": [
    "df.to_csv('Historical Mass Shootings in the USA.csv')"
   ]
  },
  {
   "cell_type": "markdown",
   "metadata": {},
   "source": [
    "### School Schootings in the USA"
   ]
  },
  {
   "cell_type": "code",
   "execution_count": 19,
   "metadata": {},
   "outputs": [],
   "source": [
    "url = 'https://en.wikipedia.org/wiki/List_of_school_shootings_in_the_United_States'"
   ]
  },
  {
   "cell_type": "code",
   "execution_count": 20,
   "metadata": {},
   "outputs": [
    {
     "data": {
      "text/plain": [
       "20"
      ]
     },
     "execution_count": 20,
     "metadata": {},
     "output_type": "execute_result"
    }
   ],
   "source": [
    "pageTree = requests.get(url, headers=headers)\n",
    "soup = BeautifulSoup(pageTree.content, 'html.parser')\n",
    "tables = soup.find_all(\"tbody\")\n",
    "\n",
    "# 1 table for each (group of) year(s)\n",
    "len(tables)"
   ]
  },
  {
   "cell_type": "code",
   "execution_count": 21,
   "metadata": {},
   "outputs": [],
   "source": [
    "menu = soup.find_all('div', {'class': 'toc'})\n",
    "entries = menu[0].find_all('li', {'class': \"toclevel-2\"})\n",
    "years = [entry.find_next('span', {'class': 'toctext'}).text for entry in entries]\n",
    "\n",
    "column_headers = tables[0].find_all('tr')[0].find_all('th')\n",
    "col_names = [element.text.strip('\\n') for element in column_headers]"
   ]
  },
  {
   "cell_type": "code",
   "execution_count": 22,
   "metadata": {},
   "outputs": [],
   "source": [
    "dfs = []\n",
    "for table, year in zip(tables, years):\n",
    "\n",
    "    data = []\n",
    "    rows = table.find_all('tr')\n",
    "\n",
    "    for row in rows[1:]:\n",
    "        cols = row.find_all('td')\n",
    "        cols = [element.text for element in cols]\n",
    "        data.append([element.strip('\\n') for element in cols if element]) # Get rid of empty values\n",
    "        \n",
    "    df = pd.DataFrame(data, columns = col_names)\n",
    "    dfs.append(df)\n",
    "    \n",
    "df = pd.concat(dfs, axis = 0).reset_index(drop = True)"
   ]
  },
  {
   "cell_type": "code",
   "execution_count": 23,
   "metadata": {},
   "outputs": [
    {
     "data": {
      "text/plain": [
       "(518, 5)"
      ]
     },
     "execution_count": 23,
     "metadata": {},
     "output_type": "execute_result"
    }
   ],
   "source": [
    "df.shape"
   ]
  },
  {
   "cell_type": "code",
   "execution_count": 24,
   "metadata": {},
   "outputs": [
    {
     "data": {
      "text/html": [
       "<div>\n",
       "<style scoped>\n",
       "    .dataframe tbody tr th:only-of-type {\n",
       "        vertical-align: middle;\n",
       "    }\n",
       "\n",
       "    .dataframe tbody tr th {\n",
       "        vertical-align: top;\n",
       "    }\n",
       "\n",
       "    .dataframe thead th {\n",
       "        text-align: right;\n",
       "    }\n",
       "</style>\n",
       "<table border=\"1\" class=\"dataframe\">\n",
       "  <thead>\n",
       "    <tr style=\"text-align: right;\">\n",
       "      <th></th>\n",
       "      <th>Date</th>\n",
       "      <th>Location</th>\n",
       "      <th>Deaths</th>\n",
       "      <th>Injuries</th>\n",
       "      <th>Description</th>\n",
       "    </tr>\n",
       "  </thead>\n",
       "  <tbody>\n",
       "    <tr>\n",
       "      <th>0</th>\n",
       "      <td>November 12, 1840</td>\n",
       "      <td>Charlottesville, Virginia</td>\n",
       "      <td>1</td>\n",
       "      <td>0</td>\n",
       "      <td>John Anthony Gardner Davis, a law professor at...</td>\n",
       "    </tr>\n",
       "    <tr>\n",
       "      <th>1</th>\n",
       "      <td>November 2, 1853</td>\n",
       "      <td>Louisville, Kentucky</td>\n",
       "      <td>1</td>\n",
       "      <td>0</td>\n",
       "      <td>Student Mathews Flounoy Ward shot the schoolma...</td>\n",
       "    </tr>\n",
       "    <tr>\n",
       "      <th>2</th>\n",
       "      <td>August 16, 1856</td>\n",
       "      <td>Florence, Alabama</td>\n",
       "      <td>2</td>\n",
       "      <td>0</td>\n",
       "      <td>The schoolmaster warned students not to harm h...</td>\n",
       "    </tr>\n",
       "    <tr>\n",
       "      <th>3</th>\n",
       "      <td>July 8, 1858</td>\n",
       "      <td>Baltimore, Maryland</td>\n",
       "      <td>1</td>\n",
       "      <td>0</td>\n",
       "      <td>The 15-year-old son of Col. John T. Farlow (Ba...</td>\n",
       "    </tr>\n",
       "    <tr>\n",
       "      <th>4</th>\n",
       "      <td>January 21, 1860</td>\n",
       "      <td>Todd County, Kentucky</td>\n",
       "      <td>1</td>\n",
       "      <td>0</td>\n",
       "      <td>A son of Col. Elijah Sebree was killed by anot...</td>\n",
       "    </tr>\n",
       "  </tbody>\n",
       "</table>\n",
       "</div>"
      ],
      "text/plain": [
       "                Date                   Location Deaths Injuries  \\\n",
       "0  November 12, 1840  Charlottesville, Virginia      1        0   \n",
       "1   November 2, 1853       Louisville, Kentucky      1        0   \n",
       "2    August 16, 1856          Florence, Alabama      2        0   \n",
       "3       July 8, 1858        Baltimore, Maryland      1        0   \n",
       "4   January 21, 1860      Todd County, Kentucky      1        0   \n",
       "\n",
       "                                         Description  \n",
       "0  John Anthony Gardner Davis, a law professor at...  \n",
       "1  Student Mathews Flounoy Ward shot the schoolma...  \n",
       "2  The schoolmaster warned students not to harm h...  \n",
       "3  The 15-year-old son of Col. John T. Farlow (Ba...  \n",
       "4  A son of Col. Elijah Sebree was killed by anot...  "
      ]
     },
     "execution_count": 24,
     "metadata": {},
     "output_type": "execute_result"
    }
   ],
   "source": [
    "df.head()"
   ]
  },
  {
   "cell_type": "code",
   "execution_count": 25,
   "metadata": {},
   "outputs": [],
   "source": [
    "df['Suspects Deaths'] = 0\n",
    "df['Suspects Deaths'] = (df.loc[df['Deaths']\n",
    "                            .str.contains('n \\d+'), 'Deaths']\n",
    "                            .str.split('n', expand = True)\n",
    "                            .iloc[:, 1]\n",
    "                            .str.replace(']', '')\n",
    "                            .str.replace('[', '')\n",
    "                            .str.replace('+', '')\n",
    "                            .str.strip())\n",
    "df['Suspects Injuries'] = 0\n",
    "df['Suspects Injuries'] = (df.loc[df['Injuries']\n",
    "                            .str.contains('n \\d+'), 'Injuries']\n",
    "                            .str.split('n', expand = True)\n",
    "                            .iloc[:, 1]\n",
    "                            .str.replace(']', '')\n",
    "                            .str.replace('[', '')\n",
    "                            .str.replace('+', '')\n",
    "                            .str.strip())\n",
    "                \n",
    "df['Suspects Deaths'] = df['Suspects Deaths'].fillna(0)\n",
    "df['Suspects Injuries'] = df['Suspects Injuries'].fillna(0)\n",
    "\n",
    "df['Deaths'] = df.Deaths.str.replace('+', '')\n",
    "df['Injuries'] = df.Injuries.str.replace('+', '').str.replace('?', '0')\n",
    "\n",
    "df['Deaths'] = df.Deaths.str.replace('n \\d+', '', regex = True).str.replace('[]', '', regex = False).astype('int')\n",
    "df['Injuries'] = df.Injuries.str.replace('n \\d+', '', regex = True).str.replace('[]', '', regex = False)\n",
    "df['Injuries'] = df.Injuries.str.split(' - ', expand = True).fillna(float(np.nan)).astype('float').mean(axis = 1).astype('int')\n",
    "df['Total'] = df.Injuries + df.Deaths\n",
    "\n",
    "\n",
    "df[['Deaths', 'Injuries', 'Total', 'Suspects Deaths', 'Suspects Injuries']] =\\\n",
    "        df[['Deaths', 'Injuries', 'Total', 'Suspects Deaths', 'Suspects Injuries']].astype('int')\n",
    "\n",
    "df['dt'] = pd.to_datetime(df['Date'].str.strip(), format = '%B %d, %Y')"
   ]
  },
  {
   "cell_type": "code",
   "execution_count": 26,
   "metadata": {},
   "outputs": [],
   "source": [
    "df.to_csv('School Shootings in the USA.csv')"
   ]
  }
 ],
 "metadata": {
  "kernelspec": {
   "display_name": "Python 3",
   "language": "python",
   "name": "python3"
  },
  "language_info": {
   "codemirror_mode": {
    "name": "ipython",
    "version": 3
   },
   "file_extension": ".py",
   "mimetype": "text/x-python",
   "name": "python",
   "nbconvert_exporter": "python",
   "pygments_lexer": "ipython3",
   "version": "3.7.3"
  }
 },
 "nbformat": 4,
 "nbformat_minor": 2
}
